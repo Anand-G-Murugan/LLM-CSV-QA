{
  "nbformat": 4,
  "nbformat_minor": 0,
  "metadata": {
    "colab": {
      "provenance": [],
      "authorship_tag": "ABX9TyPJqfiqP+xXtZYnAEs9puLa",
      "include_colab_link": true
    },
    "kernelspec": {
      "name": "python3",
      "display_name": "Python 3"
    },
    "language_info": {
      "name": "python"
    }
  },
  "cells": [
    {
      "cell_type": "markdown",
      "metadata": {
        "id": "view-in-github",
        "colab_type": "text"
      },
      "source": [
        "<a href=\"https://colab.research.google.com/github/Anand-G-Murugan/LLM-document-QA/blob/main/Llama_Langchain_CSV_QA.ipynb\" target=\"_parent\"><img src=\"https://colab.research.google.com/assets/colab-badge.svg\" alt=\"Open In Colab\"/></a>"
      ]
    },
    {
      "cell_type": "markdown",
      "source": [
        "# CSV QA Bot using OpenAI Langchain and LlamaIndex"
      ],
      "metadata": {
        "id": "a7x51dVuyESB"
      }
    },
    {
      "cell_type": "markdown",
      "source": [
        "* The program uses LlamaIndex to read and index the data.\n",
        "* We then send it to OpenAI Embeddings to get the embedings for the data.\n",
        "* The data is then used to make a query engine that allows us to query the data and get OpenAI GPT - driven responses about our CSV file!"
      ],
      "metadata": {
        "id": "R8y0hsnWyJ1i"
      }
    },
    {
      "cell_type": "markdown",
      "source": [
        "Dataset used as example: https://www.kaggle.com/datasets/geomack/spotifyclassification"
      ],
      "metadata": {
        "id": "b9lBPbvpyfNI"
      }
    },
    {
      "cell_type": "markdown",
      "source": [
        "Note: I have taken only the first 30 rows to save on tokens."
      ],
      "metadata": {
        "id": "hhDc2jk82GIB"
      }
    },
    {
      "cell_type": "markdown",
      "source": [
        "## How to use\n",
        "\n",
        "* Upload your data to Google Colab as data.csv\n",
        "* Copy and paste the code into your own Colab Notebook\n",
        "* Update the OpenAI API Key in your code with your own API Key\n",
        "* Replace the question variable with your own question\n",
        "* Thats it! you're done."
      ],
      "metadata": {
        "id": "fiRiAziRylLG"
      }
    },
    {
      "cell_type": "code",
      "source": [
        "import os\n",
        "os.environ[\"OPENAI_API_KEY\"] = 'YOUR_API_KEY_HERE'"
      ],
      "metadata": {
        "id": "huD8ynxksP_Z"
      },
      "execution_count": null,
      "outputs": []
    },
    {
      "cell_type": "code",
      "source": [
        "! pip install -q llama-index langchain"
      ],
      "metadata": {
        "colab": {
          "base_uri": "https://localhost:8080/"
        },
        "id": "OVgPTnqIscTB",
        "outputId": "b415335e-82d4-4347-c1dd-8c0ff3debf7d"
      },
      "execution_count": null,
      "outputs": [
        {
          "output_type": "stream",
          "name": "stdout",
          "text": [
            "\u001b[2K     \u001b[90m━━━━━━━━━━━━━━━━━━━━━━━━━━━━━━━━━━━━━━\u001b[0m \u001b[32m574.7/574.7 kB\u001b[0m \u001b[31m12.2 MB/s\u001b[0m eta \u001b[36m0:00:00\u001b[0m\n",
            "\u001b[2K     \u001b[90m━━━━━━━━━━━━━━━━━━━━━━━━━━━━━━━━━━━━━━━━\u001b[0m \u001b[32m1.2/1.2 MB\u001b[0m \u001b[31m41.2 MB/s\u001b[0m eta \u001b[36m0:00:00\u001b[0m\n",
            "\u001b[2K     \u001b[90m━━━━━━━━━━━━━━━━━━━━━━━━━━━━━━━━━━━━━━━━\u001b[0m \u001b[32m8.9/8.9 MB\u001b[0m \u001b[31m85.4 MB/s\u001b[0m eta \u001b[36m0:00:00\u001b[0m\n",
            "\u001b[2K     \u001b[90m━━━━━━━━━━━━━━━━━━━━━━━━━━━━━━━━━━━━━━━━\u001b[0m \u001b[32m1.2/1.2 MB\u001b[0m \u001b[31m61.3 MB/s\u001b[0m eta \u001b[36m0:00:00\u001b[0m\n",
            "\u001b[2K     \u001b[90m━━━━━━━━━━━━━━━━━━━━━━━━━━━━━━━━━━━━━━\u001b[0m \u001b[32m110.5/110.5 kB\u001b[0m \u001b[31m12.2 MB/s\u001b[0m eta \u001b[36m0:00:00\u001b[0m\n",
            "\u001b[2K     \u001b[90m━━━━━━━━━━━━━━━━━━━━━━━━━━━━━━━━━━━━━━━━\u001b[0m \u001b[32m1.7/1.7 MB\u001b[0m \u001b[31m70.1 MB/s\u001b[0m eta \u001b[36m0:00:00\u001b[0m\n",
            "\u001b[2K     \u001b[90m━━━━━━━━━━━━━━━━━━━━━━━━━━━━━━━━━━━━━━━━\u001b[0m \u001b[32m73.6/73.6 kB\u001b[0m \u001b[31m7.2 MB/s\u001b[0m eta \u001b[36m0:00:00\u001b[0m\n",
            "\u001b[2K     \u001b[90m━━━━━━━━━━━━━━━━━━━━━━━━━━━━━━━━━━━━━━━━\u001b[0m \u001b[32m90.0/90.0 kB\u001b[0m \u001b[31m9.8 MB/s\u001b[0m eta \u001b[36m0:00:00\u001b[0m\n",
            "\u001b[2K     \u001b[90m━━━━━━━━━━━━━━━━━━━━━━━━━━━━━━━━━━━━━━\u001b[0m \u001b[32m164.8/164.8 kB\u001b[0m \u001b[31m16.2 MB/s\u001b[0m eta \u001b[36m0:00:00\u001b[0m\n",
            "\u001b[?25h  Preparing metadata (setup.py) ... \u001b[?25l\u001b[?25hdone\n",
            "\u001b[2K     \u001b[90m━━━━━━━━━━━━━━━━━━━━━━━━━━━━━━━━━━━━━━\u001b[0m \u001b[32m184.3/184.3 kB\u001b[0m \u001b[31m17.1 MB/s\u001b[0m eta \u001b[36m0:00:00\u001b[0m\n",
            "\u001b[2K     \u001b[90m━━━━━━━━━━━━━━━━━━━━━━━━━━━━━━━━━━━━━━━━\u001b[0m \u001b[32m4.8/4.8 MB\u001b[0m \u001b[31m75.1 MB/s\u001b[0m eta \u001b[36m0:00:00\u001b[0m\n",
            "\u001b[2K     \u001b[90m━━━━━━━━━━━━━━━━━━━━━━━━━━━━━━━━━━━━━━━━\u001b[0m \u001b[32m82.1/82.1 kB\u001b[0m \u001b[31m7.7 MB/s\u001b[0m eta \u001b[36m0:00:00\u001b[0m\n",
            "\u001b[2K     \u001b[90m━━━━━━━━━━━━━━━━━━━━━━━━━━━━━━━━━━━━━━━━\u001b[0m \u001b[32m49.1/49.1 kB\u001b[0m \u001b[31m4.5 MB/s\u001b[0m eta \u001b[36m0:00:00\u001b[0m\n",
            "\u001b[2K     \u001b[90m━━━━━━━━━━━━━━━━━━━━━━━━━━━━━━━━━━━━━━━━\u001b[0m \u001b[32m62.7/62.7 kB\u001b[0m \u001b[31m4.6 MB/s\u001b[0m eta \u001b[36m0:00:00\u001b[0m\n",
            "\u001b[2K     \u001b[90m━━━━━━━━━━━━━━━━━━━━━━━━━━━━━━━━━━━━━━\u001b[0m \u001b[32m341.8/341.8 kB\u001b[0m \u001b[31m29.4 MB/s\u001b[0m eta \u001b[36m0:00:00\u001b[0m\n",
            "\u001b[?25h  Building wheel for validators (setup.py) ... \u001b[?25l\u001b[?25hdone\n"
          ]
        }
      ]
    },
    {
      "cell_type": "code",
      "execution_count": null,
      "metadata": {
        "id": "y0QIOOm4rME1"
      },
      "outputs": [],
      "source": [
        "from pathlib import Path\n",
        "from langchain.llms import OpenAI\n",
        "from langchain.embeddings.openai import OpenAIEmbeddings\n",
        "from llama_index import (LLMPredictor, ServiceContext, download_loader, GPTVectorStoreIndex, LangchainEmbedding)"
      ]
    },
    {
      "cell_type": "code",
      "source": [
        "# Getting the CSV Loader from llamaindex (refer: https://llama-hub-ui.vercel.app)\n",
        "PagedCSVReader = download_loader(\"PandasCSVReader\")\n",
        "loader = PagedCSVReader()"
      ],
      "metadata": {
        "id": "sxhUW_gZs5uM"
      },
      "execution_count": null,
      "outputs": []
    },
    {
      "cell_type": "code",
      "source": [
        "documents = loader.load_data(\"./data.csv\")"
      ],
      "metadata": {
        "id": "kpv9m-XFtLyG"
      },
      "execution_count": null,
      "outputs": []
    },
    {
      "cell_type": "code",
      "source": [
        "# checking the first element to see what it looks like\n",
        "documents[0]"
      ],
      "metadata": {
        "colab": {
          "base_uri": "https://localhost:8080/"
        },
        "id": "GZ5B9b8bv_98",
        "outputId": "dd347e39-2def-4b0e-8418-fc7937e0b657"
      },
      "execution_count": null,
      "outputs": [
        {
          "output_type": "execute_result",
          "data": {
            "text/plain": [
              "Document(id_='84aafb70-9323-4a30-aec6-c8001e4f2071', embedding=None, metadata={}, excluded_embed_metadata_keys=[], excluded_llm_metadata_keys=[], relationships={}, hash='c97b3284dc4d276ad313e41280f8fc0cb36087e05bb6a5a02f10a3078225f9d2', text=\"0, 0.0102, 0.833, 204600, 0.434, 0.0219, 2, 0.165, -8.795, 1, 0.431, 150.062, 4.0, 0.286, 1, Mask Off, Future\\n1, 0.199, 0.743, 326933, 0.359, 0.00611, 1, 0.137, -10.401, 1, 0.0794, 160.083, 4.0, 0.588, 1, Redbone, Childish Gambino\\n2, 0.0344, 0.838, 185707, 0.412, 0.000234, 2, 0.159, -7.148, 1, 0.289, 75.044, 4.0, 0.173, 1, Xanny Family, Future\\n3, 0.604, 0.494, 199413, 0.338, 0.51, 5, 0.0922, -15.236, 1, 0.0261, 86.468, 4.0, 0.23, 1, Master Of None, Beach House\\n4, 0.18, 0.678, 392893, 0.561, 0.512, 5, 0.439, -11.648, 0, 0.0694, 174.004, 4.0, 0.904, 1, Parallel Lines, Junior Boys\\n5, 0.00479, 0.804, 251333, 0.56, 0.0, 8, 0.164, -6.682, 1, 0.185, 85.023, 4.0, 0.264, 1, Sneakin’, Drake\\n6, 0.0145, 0.739, 241400, 0.472, 7.27e-06, 1, 0.207, -11.204, 1, 0.156, 80.03, 4.0, 0.308, 1, Childs Play, Drake\\n7, 0.0202, 0.266, 349667, 0.348, 0.664, 10, 0.16, -11.609, 0, 0.0371, 144.154, 4.0, 0.393, 1, Gyöngyhajú lány, Omega\\n8, 0.0481, 0.603, 202853, 0.944, 0.0, 11, 0.342, -3.626, 0, 0.347, 130.035, 4.0, 0.398, 1, I've Seen Footage, Death Grips\\n9, 0.00208, 0.836, 226840, 0.603, 0.0, 7, 0.571, -7.792, 1, 0.237, 99.994, 4.0, 0.386, 1, Digital Animal, Honey Claws\\n10, 0.0572, 0.525, 358187, 0.855, 0.0143, 5, 0.649, -7.372, 0, 0.0548, 111.951, 3.0, 0.524, 1, Subways - In Flagranti Extended Edit, The Avalanches\\n11, 0.0915, 0.753, 324880, 0.748, 0.00348, 10, 0.212, -8.62, 1, 0.0494, 104.322, 4.0, 0.642, 1, Donme Dolap - Baris K Edit, Modern Folk Üçlüsü\\n12, 0.253, 0.603, 356973, 0.434, 0.0619, 0, 0.108, -11.062, 1, 0.0342, 127.681, 4.0, 0.381, 1, Cemalim, Erkin Koray\\n13, 0.366, 0.762, 243270, 0.476, 0.0, 0, 0.103, -12.686, 1, 0.114, 130.007, 4.0, 0.367, 1, One Night, Lil Yachty\\n14, 0.44, 0.662, 247288, 0.603, 0.0, 9, 0.0972, -8.317, 0, 0.0793, 125.011, 4.0, 0.351, 1, Oh lala, PNL\\n15, 0.019, 0.637, 188333, 0.832, 0.0563, 6, 0.316, -6.637, 1, 0.163, 99.988, 4.0, 0.317, 1, Char, Crystal Castles\\n16, 0.0239, 0.603, 270827, 0.955, 0.0451, 1, 0.119, -4.111, 1, 0.0458, 123.922, 4.0, 0.773, 1, World In Motion, New Order\\n17, 0.233, 0.789, 447907, 0.659, 0.00049, 4, 0.184, -12.654, 0, 0.0429, 122.415, 4.0, 0.842, 1, One Nation Under a Groove, Funkadelic\\n18, 0.314, 0.713, 195429, 0.611, 0.0, 1, 0.117, -6.702, 0, 0.241, 140.061, 4.0, 0.783, 1, Bouncin, Chief Keef\\n19, 0.0242, 0.735, 214347, 0.759, 0.185, 1, 0.0966, -6.914, 0, 0.0449, 109.982, 4.0, 0.763, 1, C O O L - Radio Edit, Le Youth\\n20, 0.000702, 0.854, 249253, 0.719, 0.308, 10, 0.428, -9.335, 0, 0.0655, 128.049, 4.0, 0.471, 1, Percolator (Jamie Jones Vault Mix) - mixed, Cajmere\\n21, 0.00024, 0.747, 307680, 0.74, 0.369, 1, 0.0995, -4.134, 1, 0.0323, 130.031, 4.0, 0.77, 1, House of Jealous Lovers, The Rapture\\n22, 0.118, 0.854, 287086, 0.401, 0.0, 9, 0.527, -8.553, 1, 0.395, 139.922, 4.0, 0.441, 1, Imma Ride, Young Thug\\n23, 0.000596, 0.224, 132760, 0.925, 1.35e-06, 11, 0.0663, -1.71, 0, 0.0834, 138.022, 4.0, 0.364, 1, Girlfriend, Ty Segall\\n24, 0.279, 0.512, 203400, 0.564, 1.54e-05, 10, 0.133, -5.892, 1, 0.0316, 94.498, 4.0, 0.401, 1, If I Gave You My Love, Myron & E\\n25, 0.00219, 0.781, 205160, 0.795, 0.269, 7, 0.0673, -6.758, 1, 0.036, 109.977, 4.0, 0.795, 1, This Ready Flesh, TR/ST\\n26, 0.341, 0.411, 199500, 0.684, 1.42e-06, 11, 0.198, -6.889, 0, 0.383, 110.016, 4.0, 0.598, 1, Lose My Mind, A-Trak\\n27, 0.018, 0.646, 188333, 0.837, 0.0403, 6, 0.316, -6.615, 1, 0.134, 100.04, 4.0, 0.32, 1, Char, Crystal Castles\\n28, 0.0516, 0.782, 228562, 0.572, 0.0, 4, 0.33, -7.467, 0, 0.0385, 120.021, 4.0, 0.237, 1, Look Alive, Rae Sremmurd\\n29, 0.282, 0.735, 186096, 0.4, 0.125, 1, 0.0811, -12.766, 1, 0.102, 129.004, 4.0, 0.326, 1, Please Stop Making Fake Versace, Father\\n30, 0.00791, 0.45, 220934, 0.449, 0.0, 2, 0.173, -12.037, 1, 0.156, 135.45, 4.0, 0.137, 1, Milly Rock, 2milly\", start_char_idx=None, end_char_idx=None, text_template='{metadata_str}\\n\\n{content}', metadata_template='{key}: {value}', metadata_seperator='\\n')"
            ]
          },
          "metadata": {},
          "execution_count": 6
        }
      ]
    },
    {
      "cell_type": "code",
      "source": [
        "# Initializing OpenAI LLM\n",
        "openai = OpenAI(model_name=\"text-davinci-003\")\n",
        "\n",
        "# Alternate model\n",
        "# openai = OpenAI(model_name=\"gpt-3.5-turbo\")"
      ],
      "metadata": {
        "id": "tVNZHSSEtkV6"
      },
      "execution_count": null,
      "outputs": []
    },
    {
      "cell_type": "code",
      "source": [
        "# Initialize the Preictor for LlamaIndex\n",
        "llm_predictor = LLMPredictor(llm=openai)"
      ],
      "metadata": {
        "id": "LKEj5OIHvivk"
      },
      "execution_count": null,
      "outputs": []
    },
    {
      "cell_type": "code",
      "source": [
        "# Create the embeddings using OpenAI Embeddings\n",
        "embeddings = LangchainEmbedding(OpenAIEmbeddings(openai_api_key=os.environ[\"OPENAI_API_KEY\"]))"
      ],
      "metadata": {
        "id": "dRGaDlA7uYIt"
      },
      "execution_count": null,
      "outputs": []
    },
    {
      "cell_type": "code",
      "source": [
        "# Creating the service context for LlamaIndex\n",
        "service_context = ServiceContext.from_defaults(\n",
        "            llm_predictor=llm_predictor,\n",
        "            chunk_size=400,\n",
        "            embed_model=embeddings)"
      ],
      "metadata": {
        "id": "4u7KeW2dvBfV"
      },
      "execution_count": null,
      "outputs": []
    },
    {
      "cell_type": "code",
      "source": [
        "# Indexing the data\n",
        "index = GPTVectorStoreIndex.from_documents(\n",
        "    documents,\n",
        "    service_context=service_context\n",
        "    )"
      ],
      "metadata": {
        "id": "T2ikhGhbvm7n"
      },
      "execution_count": null,
      "outputs": []
    },
    {
      "cell_type": "code",
      "source": [
        "# Creating a Llamaindex Query Engine\n",
        "query_engine = index.as_query_engine(\n",
        "            verbose=True,\n",
        "            llm_predictor=llm_predictor\n",
        "            )"
      ],
      "metadata": {
        "id": "DrrW7EAdw8Be"
      },
      "execution_count": null,
      "outputs": []
    },
    {
      "cell_type": "code",
      "source": [
        "# Function that performs the query operation\n",
        "def query(payload):\n",
        "    response = query_engine.query(payload[\"inputs\"][\"text\"])\n",
        "    return str(response).lstrip(\"\\n\")"
      ],
      "metadata": {
        "id": "szUO-blOwZRl"
      },
      "execution_count": null,
      "outputs": []
    },
    {
      "cell_type": "code",
      "source": [
        "# Input your question here\n",
        "# question = \"YOUR_QUESTION_HERE\"\n",
        "# question = \"Name 3 music artists\"\n",
        "# question = \"Name a song by the artist Future\"\n",
        "question = \"Who made the song Redbone?\""
      ],
      "metadata": {
        "id": "7pFdjj_Qy_04"
      },
      "execution_count": null,
      "outputs": []
    },
    {
      "cell_type": "code",
      "source": [
        "# Run this cell to get the answer to your question with the help of GPT!\n",
        "output = query({\"inputs\": {\"text\": question, }})\n",
        "print(output)"
      ],
      "metadata": {
        "colab": {
          "base_uri": "https://localhost:8080/"
        },
        "id": "9IvBJiV3xq_O",
        "outputId": "ea27fac2-6d37-46c5-be58-d38bf3cb0f0d"
      },
      "execution_count": null,
      "outputs": [
        {
          "output_type": "stream",
          "name": "stdout",
          "text": [
            "Childish Gambino\n"
          ]
        }
      ]
    }
  ]
}